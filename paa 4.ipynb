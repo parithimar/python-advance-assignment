{
 "cells": [
  {
   "cell_type": "code",
   "execution_count": null,
   "metadata": {},
   "outputs": [],
   "source": [
    "Which two operator overloading methods can you use in your classes to support iteration?\n",
    "Operator Overloading means giving extended meaning beyond their predefined operational meaning. For example operator + \n",
    "is used to add two integers as well as join two strings and merge two lists. It is achievable because ‘+’ operator is\n",
    "overloaded by int class and str class. You might have noticed that the same built-in operator or function shows different\n",
    "behavior for objects of different classes, this is called Operator Overloading. "
   ]
  },
  {
   "cell_type": "code",
   "execution_count": null,
   "metadata": {},
   "outputs": [],
   "source": [
    "Q2. In what contexts do the two operator overloading methods manage printing?\n",
    "Adds the two numbers >>> 1 + 2 3 >>> Concatenates the two strings ... To do this, you only need to define the corresponding\n",
    "special method in your class. ... will determine the truth value of an instance in all contexts that require obtaining \n",
    "a ..."
   ]
  },
  {
   "cell_type": "code",
   "execution_count": null,
   "metadata": {},
   "outputs": [],
   "source": [
    "Q3. In a class, how do you intercept slice operations?\n",
    "The __getitem__ method is used for accessing list items, array elements, dictionary entries etc. slice is a constructor\n",
    "in Python that creates slice object to represent set of indices that the range(start, stop, step) specifies. \n",
    "__getitem__ method can be implement in a class, and the behavior of slicing can be defined inside it.\n",
    "\n",
    "Syntax:\n",
    "\n",
    "__getitem__(slice(start, stop, step))"
   ]
  },
  {
   "cell_type": "code",
   "execution_count": null,
   "metadata": {},
   "outputs": [],
   "source": [
    "In a class, how do you capture in-place addition?\n",
    "Lambda functions have been an addition that came with Java 8, and was the language's first step towards ... Parameters;\n",
    "Body; Variable Capture; Method Referencing ... Before we get into the nitty-gritty of lambda syntax itself, \n",
    "we should take a look at what lambda functions are in the first place and how are they used.\n"
   ]
  },
  {
   "cell_type": "code",
   "execution_count": null,
   "metadata": {},
   "outputs": [],
   "source": [
    "When is it appropriate to use operator overloading?\n",
    "For example, to copy objects of the same class, we can directly use the = operator. We do not need to create an operator\n",
    "function. Operator overloading cannot change the precedence and associativity of operators. However, if we want to change\n",
    "the order of evaluation, parentheses should be used."
   ]
  }
 ],
 "metadata": {
  "kernelspec": {
   "display_name": "Python 3",
   "language": "python",
   "name": "python3"
  },
  "language_info": {
   "codemirror_mode": {
    "name": "ipython",
    "version": 3
   },
   "file_extension": ".py",
   "mimetype": "text/x-python",
   "name": "python",
   "nbconvert_exporter": "python",
   "pygments_lexer": "ipython3",
   "version": "3.7.6"
  }
 },
 "nbformat": 4,
 "nbformat_minor": 4
}
