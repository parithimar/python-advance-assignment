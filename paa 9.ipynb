{
 "cells": [
  {
   "cell_type": "code",
   "execution_count": null,
   "metadata": {},
   "outputs": [],
   "source": [
    "Q1. In Python 3.X, what are the names and functions of string object types?\n",
    "Python Object Types This chapter begins our tour of the Python ... The discussion of modules in Chapter 3 introduced the \n",
    "highest level of this ... multiple types show up as built-in functions or expressions (e.g., len(X) , X[0] ) ... The \n",
    "names without the underscores in this list are the callable methods on string objects ..."
   ]
  },
  {
   "cell_type": "code",
   "execution_count": null,
   "metadata": {},
   "outputs": [],
   "source": [
    "How do the string forms in Python 3.X vary in terms of operations?\n",
    "The Formatter class in the string module allows you to create and customize ... In less formal terms, the replacement\n",
    "field can start with a field_name that ... Changed in version 3.4: The positional argument specifiers can be omitted \n",
    "    for Formatter . ... The alternate form is defined differently for different types."
   ]
  },
  {
   "cell_type": "code",
   "execution_count": null,
   "metadata": {},
   "outputs": [],
   "source": [
    "In 3.X, how do you put non-ASCII Unicode characters in a string?\n",
    "This is easily done on a Windows platform: type the decimal ascii code (on the numeric keypad only) while holding down\n",
    "    the ALT key, and the corresponding character is entered. For example, Alt-132 gives you a lowercase \"a\" with \n",
    "    an umlaut."
   ]
  },
  {
   "cell_type": "code",
   "execution_count": null,
   "metadata": {},
   "outputs": [],
   "source": [
    "Q4. In Python 3.X, what are the key differences between text-mode and binary-mode files?\n",
    "When we try to read or write files in our program, usually there are two modes to use. ... Obviously, in text mode, \n",
    "the program writes data to file as text characters, and in binary mode, the program writes data to files as 0/1 bits."
   ]
  },
  {
   "cell_type": "code",
   "execution_count": null,
   "metadata": {},
   "outputs": [],
   "source": [
    "How can you interpret a Unicode text file containing text encoded in a different encoding than your platform default?\n",
    " if you share text files with people who work in other languages, download ... to the 201 numeric value in the encoding\n",
    "    standard that the computer uses by default. ... You can open and read Unicode-encoded files on your English-\n",
    "    language ... In Microsoft Windows, click the Start button, and then click Control Panel."
   ]
  },
  {
   "cell_type": "code",
   "execution_count": null,
   "metadata": {},
   "outputs": [],
   "source": [
    "What is the best way to make a Unicode text file in a particular encoding format?\n",
    "UTF-8 is the most widely used way to represent Unicode text in web pages, and you should always use UTF-8 when creating \n",
    "your web pages and databases. But, in principle, UTF-8 is only one of the possible ways of encoding Unicode characters."
   ]
  },
  {
   "cell_type": "code",
   "execution_count": null,
   "metadata": {},
   "outputs": [],
   "source": [
    "Q7. What qualifies ASCII text as a form of Unicode text?\n",
    "Unicode is a superset of ASCII, and the numbers 0–127 have the same meaning in ASCII as they have in Unicode. ... Because\n",
    "Unicode characters don't generally fit into one 8-bit byte, there are numerous ways of storing Unicode characters in\n",
    "byte sequences, such as UTF-32 and UTF-8"
   ]
  },
  {
   "cell_type": "code",
   "execution_count": null,
   "metadata": {},
   "outputs": [],
   "source": [
    "Q8. How much of an effect does the change in string types in Python 3.X have on your code?\n",
    "Operations and built-in functions that have a Boolean result always return 0 ... int(​x). x converted to integer. \n",
    "(3)(6). int(). float(x). x converted to floating point ... If byteorder is \"little\" , the most significant byte is\n",
    "at the end of the byte array. ... It has no effect on the meaning of string literals and cannot be combined with the\n",
    "r prefix."
   ]
  }
 ],
 "metadata": {
  "kernelspec": {
   "display_name": "Python 3",
   "language": "python",
   "name": "python3"
  },
  "language_info": {
   "codemirror_mode": {
    "name": "ipython",
    "version": 3
   },
   "file_extension": ".py",
   "mimetype": "text/x-python",
   "name": "python",
   "nbconvert_exporter": "python",
   "pygments_lexer": "ipython3",
   "version": "3.7.6"
  }
 },
 "nbformat": 4,
 "nbformat_minor": 4
}
