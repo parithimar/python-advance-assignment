{
 "cells": [
  {
   "cell_type": "code",
   "execution_count": null,
   "metadata": {},
   "outputs": [],
   "source": [
    "What is the purpose of the try statement?\n",
    "The try statement allows you to define a block of code to be tested for errors while it is being executed. The catch \n",
    "statement allows you to define a block of code to be executed, if an error occurs in the try block"
   ]
  },
  {
   "cell_type": "code",
   "execution_count": null,
   "metadata": {},
   "outputs": [],
   "source": [
    "What are the two most popular try statement variations?\n",
    "Error in Python can be of two types i.e. Syntax errors and Exceptions. ... exceptions are raised when some internal events\n",
    "occur which changes the normal flow of the program. ... Some of the common Exception Errors are : ... Try and Except \n",
    "    statement is used to handle these errors within our code in Pytho"
   ]
  },
  {
   "cell_type": "code",
   "execution_count": null,
   "metadata": {},
   "outputs": [],
   "source": [
    "What is the purpose of the raise statement?\n",
    "The raise keyword is used to raise an exception. You can define what kind of error to raise, and the text to print to\n",
    "the user."
   ]
  },
  {
   "cell_type": "code",
   "execution_count": null,
   "metadata": {},
   "outputs": [],
   "source": [
    "What does the assert statement do, and what other statement is it like?\n",
    "assert statement takes an expression and optional message. assert statement is used to check types, values of argument \n",
    "and the output of the function. assert statement is used as debugging tool as it halts the program at the point where\n",
    "an error occurs"
   ]
  },
  {
   "cell_type": "code",
   "execution_count": null,
   "metadata": {},
   "outputs": [],
   "source": [
    "What is the purpose of the with/as argument, and what other statement is it like?\n",
    "Primarily, argument has two purposes: argument is used to change people's points of view or persuade them to accept \n",
    "    new points of view; and argument is used to persuade people to a particular action or new behavior."
   ]
  },
  {
   "cell_type": "code",
   "execution_count": null,
   "metadata": {},
   "outputs": [],
   "source": []
  },
  {
   "cell_type": "code",
   "execution_count": null,
   "metadata": {},
   "outputs": [],
   "source": []
  }
 ],
 "metadata": {
  "kernelspec": {
   "display_name": "Python 3",
   "language": "python",
   "name": "python3"
  },
  "language_info": {
   "codemirror_mode": {
    "name": "ipython",
    "version": 3
   },
   "file_extension": ".py",
   "mimetype": "text/x-python",
   "name": "python",
   "nbconvert_exporter": "python",
   "pygments_lexer": "ipython3",
   "version": "3.7.6"
  }
 },
 "nbformat": 4,
 "nbformat_minor": 4
}
