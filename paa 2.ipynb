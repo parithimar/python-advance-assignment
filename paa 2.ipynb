{
 "cells": [
  {
   "cell_type": "code",
   "execution_count": null,
   "metadata": {},
   "outputs": [],
   "source": [
    "What is the relationship between classes and modules?\n",
    " Modules are collections of methods and constants. They cannot generate instances. Classes may generate instances \n",
    "    (objects), and have per-instance state (instance variables)."
   ]
  },
  {
   "cell_type": "code",
   "execution_count": null,
   "metadata": {},
   "outputs": [],
   "source": [
    "How do you make instances and classes?\n",
    "To create instances of a class, you call the class using class name and pass in whatever arguments its __init__ method \n",
    "accepts.\n"
   ]
  },
  {
   "cell_type": "code",
   "execution_count": null,
   "metadata": {},
   "outputs": [],
   "source": [
    "Where and how should be class attributes created?\n",
    "Instance attributes are owned by the specific instances of a class. That is, for two different instances, the instance \n",
    "attributes are usually different"
   ]
  },
  {
   "cell_type": "code",
   "execution_count": null,
   "metadata": {},
   "outputs": [],
   "source": [
    "Where and how are instance attributes created?\n",
    "Let's start with the basics: An instance attribute is a Python variable belonging to one, and only one, object. This\n",
    "variable is only accessible in the scope of this object and it is defined inside the constructor function, \n",
    "__init__(self,..) of the class"
   ]
  },
  {
   "cell_type": "code",
   "execution_count": null,
   "metadata": {},
   "outputs": [],
   "source": [
    "What does the term self in a Python class mean?\n",
    "The self is used to represent the instance of the class. With this keyword, you can access the attributes and methods of \n",
    "the class in python. It binds the attributes with the given arguments. The reason why we use self is that Python does not\n",
    "use the ‘@’ syntax to refer to instance attributes. In Python, we have methods that make the instance to be passed \n",
    "automatically, but not received automatically."
   ]
  },
  {
   "cell_type": "code",
   "execution_count": null,
   "metadata": {},
   "outputs": [],
   "source": [
    "How does a Python class handle operator overloading?\n",
    "Python operators work for built-in classes. ... For example, the + operator will perform arithmetic addition on two \n",
    "numbers, merge two lists, or concatenate two strings. This feature in Python that allows the same operator to have \n",
    "different meaning according to the context is called operator overloading."
   ]
  },
  {
   "cell_type": "code",
   "execution_count": null,
   "metadata": {},
   "outputs": [],
   "source": [
    "When do you consider allowing operator overloading of your classes?\n",
    "Python operators work for built-in classes. ... For example, the + operator will perform arithmetic addition on two numbers\n",
    ", merge two lists, or concatenate two strings. This feature in Python that allows the same operator to have different\n",
    "meaning according to the context is called operator overloading."
   ]
  },
  {
   "cell_type": "code",
   "execution_count": null,
   "metadata": {},
   "outputs": [],
   "source": [
    "What is the most popular form of operator overloading?\n",
    "Here are a few of the many examples of operator overloading: myString + yourString might concatenate two std::string \n",
    "            objects. myDate++ might increment a Date object. a * b might multiply two Number objects. a[i] might access\n",
    "            an element of an Array object."
   ]
  },
  {
   "cell_type": "code",
   "execution_count": null,
   "metadata": {},
   "outputs": [],
   "source": [
    "Q9. What are the two most important concepts to grasp in order to comprehend Python OOP code?\n",
    "Now, there are four fundamental concepts of Object-oriented programming – Inheritance, Encapsulation, Polymorphism, and \n",
    "Data abstraction. It is very important to know about all of these in order to understand OOPs."
   ]
  }
 ],
 "metadata": {
  "kernelspec": {
   "display_name": "Python 3",
   "language": "python",
   "name": "python3"
  },
  "language_info": {
   "codemirror_mode": {
    "name": "ipython",
    "version": 3
   },
   "file_extension": ".py",
   "mimetype": "text/x-python",
   "name": "python",
   "nbconvert_exporter": "python",
   "pygments_lexer": "ipython3",
   "version": "3.7.6"
  }
 },
 "nbformat": 4,
 "nbformat_minor": 4
}
