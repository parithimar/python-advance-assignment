{
 "cells": [
  {
   "cell_type": "code",
   "execution_count": null,
   "metadata": {},
   "outputs": [],
   "source": [
    "Q1. What are the two latest user-defined exception constraints in Python 3.X?\n",
    "Python throws errors and exceptions, when there is a code gone wrong, which may cause program to stop abruptly.\n",
    "... Programmers may name their own exceptions by creating a new exception class. ... A python program to create \n",
    "user​-defined exception ... raise (TransitionError( 2 , 3 * 2 , \"Not Allowed\" ))."
   ]
  },
  {
   "cell_type": "code",
   "execution_count": null,
   "metadata": {},
   "outputs": [],
   "source": [
    "How are class-based exceptions that have been raised matched to handlers?\n",
    "A class-based exception can either cancel the current context or allow for a resume. Exceptions are raised using \n",
    "the statement RAISE EXCEPTION and handled using CATCH in a TRY control structure. Class-based exceptions can be \n",
    "raised in any procedures and can be further propagated by any procedures"
   ]
  },
  {
   "cell_type": "code",
   "execution_count": null,
   "metadata": {},
   "outputs": [],
   "source": [
    "Describe two methods for attaching context information to exception artefacts.\n",
    "The __context__ attribute retains this information automatically. ... revealed interest in exception chaining for two \n",
    "quite different purposes. ... C# also provides a GetBaseException method that jumps directly to the end of the ... \n",
    "functions will format or display the entire chain of exceptions as just described."
   ]
  },
  {
   "cell_type": "code",
   "execution_count": null,
   "metadata": {},
   "outputs": [],
   "source": [
    "Describe two methods for specifying the text of an exception object&#39;s error message.\n",
    "Two exception classes that are not related via subclassing are never ... The built-​in exception classes can be subclassed\n",
    "to define new exceptions; ... The associated value is an error message that includes the name that could not be found. \n",
    "... Must be raised by __anext__() method of an asynchronous iterator object to sto"
   ]
  },
  {
   "cell_type": "code",
   "execution_count": null,
   "metadata": {},
   "outputs": [],
   "source": [
    "Why do you no longer use string-based exceptions?\n",
    "Exceptions are known to non-programmers as instances that do not conform to a general ... If we use a input(), the input \n",
    "will be a string, which we have to cast into an integer. ... A try statement may have more than one except clause for\n",
    "different exceptions. ... \"General principles should not be based on exceptional cases.\n"
   ]
  }
 ],
 "metadata": {
  "kernelspec": {
   "display_name": "Python 3",
   "language": "python",
   "name": "python3"
  },
  "language_info": {
   "codemirror_mode": {
    "name": "ipython",
    "version": 3
   },
   "file_extension": ".py",
   "mimetype": "text/x-python",
   "name": "python",
   "nbconvert_exporter": "python",
   "pygments_lexer": "ipython3",
   "version": "3.7.6"
  }
 },
 "nbformat": 4,
 "nbformat_minor": 4
}
