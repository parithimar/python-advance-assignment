{
 "cells": [
  {
   "cell_type": "code",
   "execution_count": null,
   "metadata": {},
   "outputs": [],
   "source": [
    "What is the difference between __getattr__ and __getattribute__?\n",
    "A key difference between __getattr__ and __getattribute__ is that __getattr__ is only invoked if the attribute wasn't \n",
    "found the usual ways. ... __getattribute__ is invoked before looking at the actual attributes on the object, and so \n",
    "can be tricky to implement correctly. You can end up in infinite recursions very easy"
   ]
  },
  {
   "cell_type": "code",
   "execution_count": null,
   "metadata": {},
   "outputs": [],
   "source": [
    "Q2. What is the difference between properties and descriptors?\n",
    "The Cliff's Notes version: descriptors are a low-level mechanism that lets you hook into an object's attributes being \n",
    "accessed. Properties are a high-level application of this; that is, properties are implemented using descriptors"
   ]
  },
  {
   "cell_type": "code",
   "execution_count": null,
   "metadata": {},
   "outputs": [],
   "source": [
    "What are the key differences in functionality between __getattr__ and __getattribute__, as well as properties and \n",
    "descriptors?\n",
    "is not a data descriptor or if there is no such attribute. ... If there is a __​getattr__ method in the parent class of \n",
    "instance t, the method is called, and if not, ... Note that each time a class or instance calls a property, getattribute \n",
    "will be called ... Function of the T func instance ... The return from the get method is 123-​100=23"
   ]
  }
 ],
 "metadata": {
  "kernelspec": {
   "display_name": "Python 3",
   "language": "python",
   "name": "python3"
  },
  "language_info": {
   "codemirror_mode": {
    "name": "ipython",
    "version": 3
   },
   "file_extension": ".py",
   "mimetype": "text/x-python",
   "name": "python",
   "nbconvert_exporter": "python",
   "pygments_lexer": "ipython3",
   "version": "3.7.6"
  }
 },
 "nbformat": 4,
 "nbformat_minor": 4
}
