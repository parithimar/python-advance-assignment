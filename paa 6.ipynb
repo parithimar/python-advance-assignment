{
 "cells": [
  {
   "cell_type": "code",
   "execution_count": null,
   "metadata": {},
   "outputs": [],
   "source": [
    "Describe three applications for exception processing.\n",
    "Exception. ArithmeticError. FloatingPointError. OverflowError. ZeroDivisionError. AssertionError. AttributeError.\n",
    "BufferError. EOFError. ImportError. ModuleNotFoundError. LookupError. IndexError. KeyError. MemoryError. NameError. \n",
    "UnboundLocalError. OSError. BlockingIOError. ChildProcessError. ...\n",
    "GeneratorExit.\n",
    "KeyboardInterrupt.\n",
    "SystemExit."
   ]
  },
  {
   "cell_type": "code",
   "execution_count": null,
   "metadata": {},
   "outputs": [],
   "source": [
    "What happens if you dontdo something extra to treat an exception?\n",
    "Exceptions to the Rescue\n",
    "When an exception is thrown, the control flow of the program is interrupted. If no one handles the exception, it causes \n",
    "the program to crash. The user will see the exception's message, which they most likely won't understand. The message \n",
    "might not even be localized to their language"
   ]
  },
  {
   "cell_type": "code",
   "execution_count": null,
   "metadata": {},
   "outputs": [],
   "source": [
    "What are your options for recovering from an exception in your script?\n",
    "Python provides two very important features to handle any unexpected error in your Python programs and to add debugging\n",
    "capabilities in them −\n",
    "\n",
    "Exception Handling − This would be covered in this tutorial. Here is a list standard Exceptions available in Python: \n",
    "    Standard Exceptions.\n",
    "\n",
    "Assertions − This would be covered in Assertions in Python"
   ]
  },
  {
   "cell_type": "code",
   "execution_count": null,
   "metadata": {},
   "outputs": [],
   "source": [
    "Describe two methods for triggering exceptions in your script.\n",
    "An unhandled exception displays an error message and the program suddenly crashes. To avoid such a scenario, there are\n",
    "two methods to handle Python exceptions: Try – This method catches the exceptions raised by the program. Raise – Triggers\n",
    "    an exception manually using custom exception"
   ]
  },
  {
   "cell_type": "code",
   "execution_count": null,
   "metadata": {},
   "outputs": [],
   "source": [
    "Identify two methods for specifying actions to be executed at termination time, regardless of whether or not an exception\n",
    "exists.\n",
    " It has one or more clauses. Catch blocks take one argument at a time, which is the type of exception that it is likely \n",
    "    to catch. The raise statement specifies an argument which initializes the exception object. Finally, block always\n",
    "    executes irrespective of an exception being thrown or not."
   ]
  },
  {
   "cell_type": "code",
   "execution_count": null,
   "metadata": {},
   "outputs": [],
   "source": []
  }
 ],
 "metadata": {
  "kernelspec": {
   "display_name": "Python 3",
   "language": "python",
   "name": "python3"
  },
  "language_info": {
   "codemirror_mode": {
    "name": "ipython",
    "version": 3
   },
   "file_extension": ".py",
   "mimetype": "text/x-python",
   "name": "python",
   "nbconvert_exporter": "python",
   "pygments_lexer": "ipython3",
   "version": "3.7.6"
  }
 },
 "nbformat": 4,
 "nbformat_minor": 4
}
