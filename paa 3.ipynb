{
 "cells": [
  {
   "cell_type": "code",
   "execution_count": null,
   "metadata": {},
   "outputs": [],
   "source": [
    "What is the concept of an abstract superclass?\n",
    "Abstract Super Class. A common superclass for several subclasses. Factor up common behavior. Define the methods they \n",
    "all respond to. Methods that subclasses should implement are declared abstract."
   ]
  },
  {
   "cell_type": "code",
   "execution_count": null,
   "metadata": {},
   "outputs": [],
   "source": [
    "What happens when a class statements top level contains a basic assignment statement?\n",
    "A value is one of the fundamental things — like a letter or a number — that a ... is a string, so-called because it \n",
    "contains a string of letters. ... The assignment statement creates new variables and gives them values: ... But what's\n",
    "    wrong with class? ... one statement, the results appear one at a time as the statements execute."
   ]
  },
  {
   "cell_type": "code",
   "execution_count": null,
   "metadata": {},
   "outputs": [],
   "source": [
    "3. Why does a class need to manually call a superclass&#39;s __init__ method?\n",
    "__init__() . Because Cube inherits from Square and . ... __init__() of the superclass ( Square ) will be called \n",
    "automatically. super() returns a delegate object to a parent class, so you call the method you want directly on \n",
    "it: super()."
   ]
  },
  {
   "cell_type": "code",
   "execution_count": null,
   "metadata": {},
   "outputs": [],
   "source": [
    "How can you augment, instead of completely replacing, an inherited method?\n",
    "Create a field and put a superclass object in it, delegate methods to the superclass object, and get rid of inheritance."
   ]
  },
  {
   "cell_type": "code",
   "execution_count": null,
   "metadata": {},
   "outputs": [],
   "source": [
    "How is the local scope of a class different from that of a function?\n",
    "Local variable is declared inside a function whereas Global variable is declared outside the function.\n",
    "Local variables are created when the function has started execution and is lost when the function terminates, on the other\n",
    "hand, Global variable is created as execution starts and is lost when the program ends.\n",
    "Local variable doesn’t provide data sharing whereas Global variable provides data sharing.\n",
    "Local variables are stored on the stack whereas the Global variable are stored on a fixed location decided by the compiler.\n",
    "Parameters passing is required for local variables whereas it is not necessary for a global variable"
   ]
  },
  {
   "cell_type": "code",
   "execution_count": null,
   "metadata": {},
   "outputs": [],
   "source": []
  }
 ],
 "metadata": {
  "kernelspec": {
   "display_name": "Python 3",
   "language": "python",
   "name": "python3"
  },
  "language_info": {
   "codemirror_mode": {
    "name": "ipython",
    "version": 3
   },
   "file_extension": ".py",
   "mimetype": "text/x-python",
   "name": "python",
   "nbconvert_exporter": "python",
   "pygments_lexer": "ipython3",
   "version": "3.7.6"
  }
 },
 "nbformat": 4,
 "nbformat_minor": 4
}
