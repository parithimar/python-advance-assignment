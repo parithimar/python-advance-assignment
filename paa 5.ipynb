{
 "cells": [
  {
   "cell_type": "code",
   "execution_count": null,
   "metadata": {},
   "outputs": [],
   "source": [
    "What is the meaning of multiple inheritance?\n",
    "Multiple inheritance is a feature of some object-oriented computer programming languages in which an object or class \n",
    "can inherit characteristics and features from more than one parent object or parent class. ... This can be addressed \n",
    "in various ways, including using virtual inheritance."
   ]
  },
  {
   "cell_type": "code",
   "execution_count": null,
   "metadata": {},
   "outputs": [],
   "source": [
    "Q2. What is the concept of delegation?\n",
    "Delegation is the assignment of authority to another person (normally from a manager to a subordinate) to carry out \n",
    "specific activities. It is the process of distributing and entrusting work to another person. Delegation is one of the \n",
    "core concepts of management leadership."
   ]
  },
  {
   "cell_type": "code",
   "execution_count": null,
   "metadata": {},
   "outputs": [],
   "source": [
    "Q3. What is the concept of composition?\n",
    "Population composition refers to the structure of the population. Population composition helps to know the number of males\n",
    "or female, their age-groups, literacy, their occupation, their income level and health conditions etc."
   ]
  },
  {
   "cell_type": "code",
   "execution_count": null,
   "metadata": {},
   "outputs": [],
   "source": [
    "What are bound methods and how do we use them?\n",
    "A bound method is the one which is dependent on the instance of the class as the first argument. It passes the instance as\n",
    "the first argument which is used to access the variables and functions. In Python 3 and newer versions of python, all \n",
    "functions in the class are by default bound methods."
   ]
  },
  {
   "cell_type": "code",
   "execution_count": null,
   "metadata": {},
   "outputs": [],
   "source": [
    "Q5. What is the purpose of pseudoprivate attributes?\n",
    "One of the main problems that the pseudoprivate attribute feature is meant to alleviate has to do with the way instance\n",
    "attributes are stored. In Python, all instance attributes wind up in the single instance object at the bottom of the \n",
    "class tree. This is different from the C++ model, where each class gets its own space for data members it defines.\n",
    "\n",
    "Within a class method in Python, whenever a method assigns to a self attribute (e.g., self.attr = value), it changes or \n",
    "creates an attribute in the instance (inheritance searches happen only on reference, not on assignment). Because this \n",
    "is true even if multiple classes in a hierarchy assign to the same attribute, collisions are possible"
   ]
  }
 ],
 "metadata": {
  "kernelspec": {
   "display_name": "Python 3",
   "language": "python",
   "name": "python3"
  },
  "language_info": {
   "codemirror_mode": {
    "name": "ipython",
    "version": 3
   },
   "file_extension": ".py",
   "mimetype": "text/x-python",
   "name": "python",
   "nbconvert_exporter": "python",
   "pygments_lexer": "ipython3",
   "version": "3.7.6"
  }
 },
 "nbformat": 4,
 "nbformat_minor": 4
}
